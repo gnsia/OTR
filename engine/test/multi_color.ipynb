{
 "cells": [
  {
   "cell_type": "code",
   "execution_count": 2,
   "metadata": {},
   "outputs": [],
   "source": [
    "import cv2\n",
    "import numpy as np\n",
    "\n",
    "def nothing(x):\n",
    "    pass\n",
    "\n",
    "cap = cv2.VideoCapture(0)\n",
    "cv2.namedWindow(\"Trackbars\")\n",
    "\n",
    "cv2.createTrackbar(\"L – H\", \"Trackbars\", 0, 179, nothing)\n",
    "cv2.createTrackbar(\"L – S\", \"Trackbars\", 0, 255, nothing)\n",
    "cv2.createTrackbar(\"L – V\", \"Trackbars\", 0, 255, nothing)\n",
    "cv2.createTrackbar(\"U – H\", \"Trackbars\", 179, 179, nothing)\n",
    "cv2.createTrackbar(\"U – S\", \"Trackbars\", 255, 255, nothing)\n",
    "cv2.createTrackbar(\"U – V\", \"Trackbars\", 255, 255, nothing)\n",
    "\n",
    "\n",
    "canny_min = 100\n",
    "canny_max = 150\n",
    "\n",
    "while True:\n",
    "    _, frame = cap.read()\n",
    "    hsv = cv2.cvtColor(frame, cv2.COLOR_BGR2HSV)\n",
    "\n",
    "    l_h = cv2.getTrackbarPos(\"L – H\", \"Trackbars\")\n",
    "    l_s = cv2.getTrackbarPos(\"L – S\", \"Trackbars\")\n",
    "    l_v = cv2.getTrackbarPos(\"L – V\", \"Trackbars\")\n",
    "    u_h = cv2.getTrackbarPos(\"U – H\", \"Trackbars\")\n",
    "    u_s = cv2.getTrackbarPos(\"U – S\", \"Trackbars\")\n",
    "    u_v = cv2.getTrackbarPos(\"U – V\", \"Trackbars\")\n",
    "\n",
    "    lower_blue = np.array([l_h, l_s, l_v])\n",
    "    upper_blue = np.array([u_h, u_s, u_v])\n",
    "    mask = cv2.inRange(hsv, lower_blue, upper_blue)\n",
    "\n",
    "    kernel = cv2.getStructuringElement(cv2.MORPH_CROSS, (3,3))\n",
    "    red_edge = cv2.Canny(mask, canny_min, canny_max)\n",
    "\n",
    "    mask_thick = cv2.morphologyEx(red_edge, cv2.MORPH_CLOSE, kernel, iterations=10 )\n",
    "    result = cv2.bitwise_and(frame, frame, mask=mask)\n",
    "\n",
    "    \n",
    "    cv2.imshow(\"canny\", mask_thick)\n",
    "\n",
    "    cv2.imshow(\"frame\", frame)\n",
    "    cv2.imshow(\"mask\", mask)\n",
    "    cv2.imshow(\"result\", result)\n",
    "\n",
    "    key = cv2.waitKey(1)\n",
    "    if key == 27:\n",
    "        break\n",
    "\n",
    "cap.release()\n",
    "cv2.destroyAllWindows()"
   ]
  }
 ],
 "metadata": {
  "kernelspec": {
   "display_name": "Python 3",
   "language": "python",
   "name": "python3"
  },
  "language_info": {
   "codemirror_mode": {
    "name": "ipython",
    "version": 3
   },
   "file_extension": ".py",
   "mimetype": "text/x-python",
   "name": "python",
   "nbconvert_exporter": "python",
   "pygments_lexer": "ipython3",
   "version": "3.7.6"
  }
 },
 "nbformat": 4,
 "nbformat_minor": 4
}
